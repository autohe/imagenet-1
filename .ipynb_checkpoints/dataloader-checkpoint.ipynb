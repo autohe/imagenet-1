{
 "cells": [
  {
   "cell_type": "markdown",
   "metadata": {},
   "source": [
    "# Data Loader\n",
    "\n"
   ]
  },
  {
   "cell_type": "markdown",
   "metadata": {},
   "source": [
    "Imported libraries"
   ]
  },
  {
   "cell_type": "code",
   "execution_count": 1,
   "metadata": {
    "collapsed": true
   },
   "outputs": [],
   "source": [
    "import tensorflow as tf\n",
    "import os.path as osp\n",
    "import numpy as np\n",
    "from datetime import datetime\n",
    "import os\n",
    "import random\n",
    "import sys\n",
    "import threading"
   ]
  },
  {
   "cell_type": "markdown",
   "metadata": {},
   "source": [
    "# Flags"
   ]
  },
  {
   "cell_type": "code",
   "execution_count": null,
   "metadata": {
    "collapsed": true
   },
   "outputs": [],
   "source": []
  },
  {
   "cell_type": "markdown",
   "metadata": {},
   "source": [
    "# Function definitions"
   ]
  },
  {
   "cell_type": "code",
   "execution_count": 4,
   "metadata": {
    "collapsed": false
   },
   "outputs": [],
   "source": [
    "def convert_to_example(filename, image_buffer, label, synset, human, bbox, height, weidth):\n",
    "    xmin = []\n",
    "    ymin = []\n",
    "    xmax = []\n",
    "    ymax = []\n",
    "    for b in bbox:\n",
    "        assert len(b) == 4\n",
    "        # pylint: disable=expression-not-assigned\n",
    "        [l.append(point) for l, point in zip([xmin, ymin, xmax, ymax], b)]\n",
    "        # pylint: enable=expression-not-assigned\n",
    "\n",
    "    colorspace = 'RGB'\n",
    "    channels = 3\n",
    "    image_format = 'JPEG'\n",
    "\n",
    "    example = tf.train.Example(features=tf.train.Features(feature={\n",
    "        'image/height': _int64_feature(height),\n",
    "        'image/width': _int64_feature(width),\n",
    "        'image/colorspace': _bytes_feature(colorspace),\n",
    "        'image/channels': _int64_feature(channels),\n",
    "        'image/class/label': _int64_feature(label),\n",
    "        'image/class/synset': _bytes_feature(synset),\n",
    "        'image/class/text': _bytes_feature(human),\n",
    "        'image/object/bbox/xmin': _float_feature(xmin),\n",
    "        'image/object/bbox/xmax': _float_feature(xmax),\n",
    "        'image/object/bbox/ymin': _float_feature(ymin),\n",
    "        'image/object/bbox/ymax': _float_feature(ymax),\n",
    "        'image/object/bbox/label': _int64_feature([label] * len(xmin)),\n",
    "        'image/format': _bytes_feature(image_format),\n",
    "        'image/filename': _bytes_feature(os.path.basename(filename)),\n",
    "        'image/encoded': _bytes_feature(image_buffer)}))\n",
    "    return example\n",
    "    "
   ]
  },
  {
   "cell_type": "code",
   "execution_count": 5,
   "metadata": {
    "collapsed": true
   },
   "outputs": [],
   "source": [
    "class ImageCoder(object):\n",
    "    \n",
    "    \n",
    "    def __init__(self):\n",
    "        \n",
    "        # Initializes function that converts CMYK JPEG data to RGB JPEG data.\n",
    "        self._cmyk_data = tf.placeholder(dtype=tf.string)\n",
    "        image = tf.image.decode_jpeg(self._cmyk_data, channels=0)\n",
    "        self._cmyk_to_rgb = tf.image.encode_jpeg(image, format='rgb', quality=100)\n",
    "\n",
    "        # Initializes function that decodes RGB JPEG data.\n",
    "        self._decode_jpeg_data = tf.placeholder(dtype=tf.string)\n",
    "        self._decode_jpeg = tf.image.decode_jpeg(self._decode_jpeg_data, channels=3)\n",
    "        \n",
    "        \n",
    "        \n",
    "    def cmyk_to_rgb(self, image_data):\n",
    "        return self._sess.run(self._cmyk_to_rgb,\n",
    "                              feed_dict={self._cmyk_data: image_data})\n",
    "\n",
    "    \n",
    "    def decode_jpeg(self, image_data):\n",
    "        image = self._sess.run(self._decode_jpeg,\n",
    "                               feed_dict={self._decode_jpeg_data: image_data})\n",
    "        assert len(image.shape) == 3\n",
    "        assert image.shape[2] == 3\n",
    "        return image\n",
    "    "
   ]
  },
  {
   "cell_type": "code",
   "execution_count": null,
   "metadata": {
    "collapsed": true
   },
   "outputs": [],
   "source": []
  },
  {
   "cell_type": "code",
   "execution_count": null,
   "metadata": {
    "collapsed": true
   },
   "outputs": [],
   "source": []
  },
  {
   "cell_type": "code",
   "execution_count": null,
   "metadata": {
    "collapsed": true
   },
   "outputs": [],
   "source": []
  },
  {
   "cell_type": "markdown",
   "metadata": {},
   "source": [
    "Set up network level constants"
   ]
  },
  {
   "cell_type": "code",
   "execution_count": 2,
   "metadata": {
    "collapsed": true
   },
   "outputs": [],
   "source": [
    "IMAGE_SIZE = 28\n",
    "NUM_CLASSES = 1000\n",
    "NUM_EXAMPLES_TRAIN = 1000000j;lkjf\n",
    "NUM_EXAMPLES_TEST = 200000"
   ]
  },
  {
   "cell_type": "code",
   "execution_count": 13,
   "metadata": {
    "collapsed": false
   },
   "outputs": [],
   "source": [
    "#filenames = [os.path.join(data_dir, 'data_batch_%d.bin' % i) for i in xrange(1,1000)]\n",
    "#filename_queue = tf.train.string_input_producer(filenames)\n",
    "#read_input = get the examples\n",
    "#reshaped_image = tf.cast(read_input.uint8image, tf.float32)\n",
    "height = 224\n",
    "width = 224\n",
    "#resized_image = tf.image.resize_image_with_crop_or_pad(reshaped_image, width, height)\n",
    "#float_image = tf.image.per_image_whitening(resized_image)\n",
    "#min_fraction_of_examples_in_queue = 0.4\n",
    "#min_queue_examples = int(num_examples_per_epoch * min_fraction_of_examples_in_queue)"
   ]
  },
  {
   "cell_type": "code",
   "execution_count": 8,
   "metadata": {
    "collapsed": true
   },
   "outputs": [],
   "source": []
  }
 ],
 "metadata": {
  "kernelspec": {
   "display_name": "Python 3",
   "language": "python",
   "name": "python3"
  },
  "language_info": {
   "codemirror_mode": {
    "name": "ipython",
    "version": 3
   },
   "file_extension": ".py",
   "mimetype": "text/x-python",
   "name": "python",
   "nbconvert_exporter": "python",
   "pygments_lexer": "ipython3",
   "version": "3.4.3"
  }
 },
 "nbformat": 4,
 "nbformat_minor": 1
}
