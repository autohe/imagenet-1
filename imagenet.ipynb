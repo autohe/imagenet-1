{
 "cells": [
  {
   "cell_type": "code",
   "execution_count": 2,
   "metadata": {
    "collapsed": true
   },
   "outputs": [],
   "source": [
    "import tensorflow as tf\n",
    "import numpy as np"
   ]
  },
  {
   "cell_type": "code",
   "execution_count": 3,
   "metadata": {
    "collapsed": false
   },
   "outputs": [],
   "source": [
    "sess = tf.InteractiveSession()"
   ]
  },
  {
   "cell_type": "code",
   "execution_count": 4,
   "metadata": {
    "collapsed": true
   },
   "outputs": [],
   "source": [
    "num_targets = 1000\n",
    "random = np.random.randn(1, 224,224,3)\n",
    "random_target = np.random.randn(1, num_targets)"
   ]
  },
  {
   "cell_type": "code",
   "execution_count": 5,
   "metadata": {
    "collapsed": false
   },
   "outputs": [],
   "source": [
    "input_data = tf.placeholder(tf.float32, [None, 224*224*3])\n",
    "targets = tf.placeholder(tf.float32, [None, num_targets])"
   ]
  },
  {
   "cell_type": "code",
   "execution_count": 6,
   "metadata": {
    "collapsed": false
   },
   "outputs": [],
   "source": [
    "# first convolution layer\n",
    "W_conv1 = tf.Variable(tf.truncated_normal([11, 11, 3, 48], stddev=0.1))\n",
    "b_conv1 = tf.Variable(tf.constant(0.1, shape = [48]))\n",
    "\n",
    "x_image = tf.reshape(input_data, [-1, 224, 224, 3])\n",
    "\n",
    "# hidden layer with ReLU and max pooling\n",
    "h_conv1 = tf.nn.relu(tf.nn.conv2d(x_image, W_conv1, [1, 4, 4, 1], padding = 'SAME') + b_conv1)\n"
   ]
  },
  {
   "cell_type": "code",
   "execution_count": 7,
   "metadata": {
    "collapsed": false
   },
   "outputs": [],
   "source": [
    "# second convolution layer\n",
    "W_conv2 = tf.Variable(tf.truncated_normal([5, 5, 48, 128], stddev=0.1))\n",
    "b_conv2 = tf.Variable(tf.constant(0.1, shape = [128]))\n",
    "\n",
    "# hidden layer with ReLU and max pooling\n",
    "h_conv2 = tf.nn.relu(tf.nn.conv2d(h_conv1, W_conv2, [1, 1, 1, 1], padding = 'SAME') + b_conv2)\n",
    "h_pool2 = tf.nn.max_pool(h_conv2, ksize=[1,3,3,1], strides=[1,2,2,1], padding = 'VALID')\n"
   ]
  },
  {
   "cell_type": "code",
   "execution_count": 8,
   "metadata": {
    "collapsed": false
   },
   "outputs": [],
   "source": [
    "# third convolution layer\n",
    "W_conv3 = tf.Variable(tf.truncated_normal([3, 3, 128, 192], stddev=0.1))\n",
    "b_conv3 = tf.Variable(tf.constant(0.1, shape = [192]))\n",
    "\n",
    "# hidden layer with ReLU\n",
    "h_conv3 = tf.nn.relu(tf.nn.conv2d(h_pool2, W_conv3, [1, 1, 1, 1], padding = 'SAME') + b_conv3)\n",
    "h_pool3 = tf.nn.max_pool(h_conv3, ksize=[1,3,3,1], strides=[1,2,2,1], padding = 'VALID')\n"
   ]
  },
  {
   "cell_type": "code",
   "execution_count": 9,
   "metadata": {
    "collapsed": false
   },
   "outputs": [],
   "source": [
    "# fourth convolution layer\n",
    "W_conv4 = tf.Variable(tf.truncated_normal([3, 3, 192, 192], stddev=0.1))\n",
    "b_conv4 = tf.Variable(tf.constant(0.1, shape = [192]))\n",
    "\n",
    "# hidden layer with ReLU\n",
    "h_conv4 = tf.nn.relu(tf.nn.conv2d(h_pool3, W_conv4, [1, 1, 1, 1], padding = 'SAME') + b_conv4)\n"
   ]
  },
  {
   "cell_type": "code",
   "execution_count": 10,
   "metadata": {
    "collapsed": false
   },
   "outputs": [],
   "source": [
    "# fifth convolution layer\n",
    "W_conv5 = tf.Variable(tf.truncated_normal([3, 3, 192, 128], stddev=0.1))\n",
    "b_conv5 = tf.Variable(tf.constant(0.1, shape = [128]))\n",
    "\n",
    "# hidden layer with ReLU and pooling\n",
    "h_conv5 = tf.nn.relu(tf.nn.conv2d(h_conv4, W_conv5, [1, 1, 1, 1], padding = 'SAME') + b_conv5)\n",
    "h_pool5 = tf.nn.max_pool(h_conv5, ksize=[1,3,3,1], strides=[1,2,2,1], padding = 'VALID')\n"
   ]
  },
  {
   "cell_type": "code",
   "execution_count": 11,
   "metadata": {
    "collapsed": false
   },
   "outputs": [],
   "source": [
    "#first fully-connected layer\n",
    "W_fcl1  = tf.Variable(tf.truncated_normal([6*6*128, 2048], stddev=0.1))\n",
    "b_fcl1 = tf.Variable(tf.constant(0.1, shape = [2048]))\n",
    "\n",
    "\n",
    "flatten_result = tf.reshape(h_pool5, [-1, 6*6*128])\n",
    "h_fcl1 = tf.nn.relu(tf.matmul(flatten_result, W_fcl1) + b_fcl1)\n",
    "\n",
    "#dropout\n",
    "keep_prob1 = 0.5\n",
    "fcl_dropout1 = tf.nn.dropout(h_fcl1, keep_prob1)"
   ]
  },
  {
   "cell_type": "code",
   "execution_count": 12,
   "metadata": {
    "collapsed": true
   },
   "outputs": [],
   "source": [
    "#second fully-connected layer\n",
    "W_fcl2  = tf.Variable(tf.truncated_normal([2048, 2048], stddev=0.1))\n",
    "b_fcl2 = tf.Variable(tf.constant(0.1, shape = [2048]))\n",
    "\n",
    "h_fcl2 = tf.nn.relu(tf.matmul(h_fcl1, W_fcl2) + b_fcl2)\n",
    "\n",
    "#dropout\n",
    "keep_prob2 = 0.5\n",
    "fcl_dropout2 = tf.nn.dropout(h_fcl2, keep_prob2)\n"
   ]
  },
  {
   "cell_type": "code",
   "execution_count": 13,
   "metadata": {
    "collapsed": true
   },
   "outputs": [],
   "source": [
    "#readout\n",
    "W_read  = tf.Variable(tf.truncated_normal([2048, 1000], stddev=0.1))\n",
    "b_read = tf.Variable(tf.constant(0.1, shape = [1000]))\n",
    "\n",
    "y_conv = tf.nn.softmax(tf.matmul(fcl_dropout2, W_read) + b_read)"
   ]
  },
  {
   "cell_type": "code",
   "execution_count": 14,
   "metadata": {
    "collapsed": false
   },
   "outputs": [],
   "source": [
    "#TRAINING\n",
    "cross_entropy = tf.reduce_mean(-tf.reduce_sum(targets*tf.log(y_conv), reduction_indices=[1]))\n",
    "train_step = tf.train.AdamOptimizer(1e-4).minimize(cross_entropy)\n",
    "correct_prediction = tf.equal(tf.arg_max(y_conv, 1), tf.argmax(targets,1))\n",
    "accuracy = tf.reduce_mean(tf.cast(correct_prediction, tf.float32))"
   ]
  },
  {
   "cell_type": "code",
   "execution_count": 15,
   "metadata": {
    "collapsed": false
   },
   "outputs": [],
   "source": [
    "batchsize = 128\n",
    "decay = 0.0005\n",
    "momentum = 0.9\n",
    "learningrate = 0.1"
   ]
  },
  {
   "cell_type": "code",
   "execution_count": 18,
   "metadata": {
    "collapsed": false
   },
   "outputs": [
    {
     "name": "stdout",
     "output_type": "stream",
     "text": [
      "accuracy 0\n"
     ]
    }
   ],
   "source": [
    "tf.initialize_all_variables().run()\n",
    "\n",
    "train_accuracy = accuracy.eval(feed_dict={x_image: random, targets: random_target})\n",
    "#, keep_prob2: 1.0})\n",
    "print(\"accuracy %g\" % (train_accuracy))\n",
    "train_step.run(feed_dict={x_image: random, targets: random_target})"
   ]
  },
  {
   "cell_type": "code",
   "execution_count": null,
   "metadata": {
    "collapsed": true
   },
   "outputs": [],
   "source": []
  }
 ],
 "metadata": {
  "kernelspec": {
   "display_name": "Python 3",
   "language": "python",
   "name": "python3"
  },
  "language_info": {
   "codemirror_mode": {
    "name": "ipython",
    "version": 3
   },
   "file_extension": ".py",
   "mimetype": "text/x-python",
   "name": "python",
   "nbconvert_exporter": "python",
   "pygments_lexer": "ipython3",
   "version": "3.4.3"
  }
 },
 "nbformat": 4,
 "nbformat_minor": 1
}
